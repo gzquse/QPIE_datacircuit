{
 "cells": [
  {
   "attachments": {},
   "cell_type": "markdown",
   "metadata": {},
   "source": [
    "# Hybrid Quantum Neural Networks\n",
    "\n",
    "The example below highlights a hybrid quantum neural network workflow with CUDA-Q and PyTorch where both layers can GPU accelerated to maximise performance."
   ]
  },
  {
   "attachments": {},
   "cell_type": "markdown",
   "metadata": {},
   "source": [
    "<img src=\"images/hybrid.png\" alt=\"hybrid\" width=\"600\">\n"
   ]
  },
  {
   "attachments": {},
   "cell_type": "markdown",
   "metadata": {},
   "source": [
    "We perform binary classification on the MNIST dataset where data flows through the neural network architecture to the quantum circuit whose output is used to classify hand written digits."
   ]
  },
  {
   "cell_type": "code",
   "execution_count": null,
   "metadata": {},
   "outputs": [],
   "source": [
    "# Install the relevant packages.\n",
    "\n",
    "!pip install matplotlib==3.8.4 torch==2.0.1+cu118 torchvision==0.15.2+cu118 scikit-learn==1.4.2 -q --extra-index-url https://download.pytorch.org/whl/cu118"
   ]
  },
  {
   "cell_type": "code",
   "execution_count": 1,
   "metadata": {},
   "outputs": [],
   "source": [
    "# Import the relevant libraries\n",
    "\n",
    "import cudaq\n",
    "from cudaq import spin\n",
    "\n",
    "import matplotlib.pyplot as plt\n",
    "\n",
    "import numpy as np\n",
    "\n",
    "import torch\n",
    "from torch.autograd import Function\n",
    "from torchvision import datasets, transforms\n",
    "import torch.optim as optim\n",
    "import torch.nn as nn\n",
    "import torchvision\n",
    "\n",
    "from sklearn.model_selection import train_test_split\n",
    "\n",
    "torch.manual_seed(22)\n",
    "cudaq.set_random_seed(44)"
   ]
  },
  {
   "cell_type": "code",
   "execution_count": 2,
   "metadata": {},
   "outputs": [],
   "source": [
    "# Set CUDAQ and PyTorch to run on either CPU or GPU.\n",
    "\n",
    "# device = torch.device('cpu')\n",
    "# cudaq.set_target(\"qpp-cpu\")\n",
    "\n",
    "cudaq.set_target(\"nvidia\")\n",
    "device = torch.device(\"cuda:0\")"
   ]
  },
  {
   "cell_type": "code",
   "execution_count": 3,
   "metadata": {},
   "outputs": [],
   "source": [
    "def prepare_data(target_digits, sample_count, test_size):\n",
    "    \"\"\"Load and prepare the MNIST dataset to be used \n",
    "    \n",
    "    Args: \n",
    "        target_digits (list): digits to perform classification of \n",
    "        sample_count (int): total number of images to be used\n",
    "        test_size (float): percentage of sample_count to be used as test set, the remainder is the training set\n",
    "        \n",
    "    Returns: \n",
    "        dataset in train, test format with targets \n",
    "    \n",
    "    \"\"\"\n",
    "\n",
    "    transform = transforms.Compose(\n",
    "        [transforms.ToTensor(),\n",
    "         transforms.Normalize((0.1307), (0.3081))])\n",
    "\n",
    "    dataset = datasets.MNIST(\"./data\",\n",
    "                             train=True,\n",
    "                             download=True,\n",
    "                             transform=transform)\n",
    "\n",
    "    # Filter out the required labels.\n",
    "    idx = (dataset.targets == target_digits[0]) | (dataset.targets\n",
    "                                                   == target_digits[1])\n",
    "    dataset.data = dataset.data[idx]\n",
    "    dataset.targets = dataset.targets[idx]\n",
    "\n",
    "    # Select a subset based on number of datapoints specified by sample_count.\n",
    "    subset_indices = torch.randperm(dataset.data.size(0))[:sample_count]\n",
    "\n",
    "    x = dataset.data[subset_indices].float().unsqueeze(1).to(device)\n",
    "\n",
    "    y = dataset.targets[subset_indices].to(device).float().to(device)\n",
    "\n",
    "    # Relabel the targets as a 0 or a 1.\n",
    "    y = torch.where(y == min(target_digits), 0.0, 1.0)\n",
    "\n",
    "    x_train, x_test, y_train, y_test = train_test_split(x,\n",
    "                                                        y,\n",
    "                                                        test_size=test_size /\n",
    "                                                        100,\n",
    "                                                        shuffle=True,\n",
    "                                                        random_state=42)\n",
    "\n",
    "    return x_train, x_test, y_train, y_test"
   ]
  },
  {
   "cell_type": "code",
   "execution_count": 4,
   "metadata": {},
   "outputs": [],
   "source": [
    "# Classical parameters.\n",
    "\n",
    "sample_count = 10  # Total number of images to use.\n",
    "target_digits = [5, 6]  # Hand written digits to classify.\n",
    "test_size = 10  # Percentage of dataset to be used for testing.\n",
    "classification_threshold = 0.5  # Classification boundary used to measure accuracy.\n",
    "epochs = 2  # Number of epochs to train for.\n",
    "\n",
    "# Quantum parmeters.\n",
    "\n",
    "qubit_count = 28\n",
    "hamiltonian = spin.z(0)  # Measurement operator.\n",
    "shift = torch.tensor(torch.pi / 2)  # Magnitude of parameter shift."
   ]
  },
  {
   "cell_type": "code",
   "execution_count": 5,
   "metadata": {},
   "outputs": [],
   "source": [
    "x_train, x_test, y_train, y_test = prepare_data(target_digits, sample_count,\n",
    "                                                test_size)"
   ]
  },
  {
   "cell_type": "code",
   "execution_count": 6,
   "metadata": {},
   "outputs": [
    {
     "data": {
      "image/png": "[encoded data removed]",
      "text/plain": [
       "<Figure size 640x480 with 1 Axes>"
      ]
     },
     "metadata": {},
     "output_type": "display_data"
    }
   ],
   "source": [
    "# Plot some images from the training set to visualise.\n",
    "if device != 'cpu':\n",
    "    sample_to_plot = x_train[:10].to(torch.device('cpu'))\n",
    "else:\n",
    "    sample_to_plot = x_train[:10]\n",
    "\n",
    "grid_img = torchvision.utils.make_grid(sample_to_plot,\n",
    "                                       nrow=5,\n",
    "                                       padding=3,\n",
    "                                       normalize=True)\n",
    "plt.imshow(grid_img.permute(1, 2, 0))\n",
    "plt.axis('off')\n",
    "plt.show()"
   ]
  },
  {
   "cell_type": "code",
   "execution_count": 7,
   "metadata": {},
   "outputs": [],
   "source": [
    "class QuantumFunction(Function):\n",
    "    \"\"\"Allows the quantum circuit to input data, output expectation values \n",
    "    and calculate gradients of variational parameters via finite difference\"\"\"\n",
    "\n",
    "    def __init__(self, qubit_count: int, hamiltonian: cudaq.SpinOperator):\n",
    "        \"\"\"Define the quantum circuit in CUDA Quantum\"\"\"\n",
    "\n",
    "        @cudaq.kernel\n",
    "        def kernel(qubit_count: int, thetas: np.ndarray):\n",
    "\n",
    "            qubits = cudaq.qvector(qubit_count)\n",
    "\n",
    "            ry(thetas[0], qubits[0])\n",
    "            rx(thetas[1], qubits[0])\n",
    "\n",
    "        self.kernel = kernel\n",
    "        self.qubit_count = qubit_count\n",
    "        self.hamiltonian = hamiltonian\n",
    "\n",
    "    def run(self, theta_vals: torch.tensor) -> torch.tensor:\n",
    "        \"\"\"Excetute the quantum circuit to output an expectation value\"\"\"\n",
    "\n",
    "        #If running on GPU, thetas is a torch.tensor that will live on GPU memory. The observe function calls a .tolist() method on inputs which moves thetas from GPU to CPU.\n",
    "        # Ensure theta_vals is on the correct device (GPU if available).\n",
    "        theta_vals = theta_vals.to(device)\n",
    "        \n",
    "        # Convert theta_vals to a format compatible with cudaq.observe.\n",
    "        # Use .detach().cpu().numpy() to avoid unnecessary GPU-to-CPU transfer.\n",
    "        theta_vals_list = theta_vals.detach().cpu().numpy()\n",
    "        qubit_count = [self.qubit_count for _ in range(theta_vals.shape[0])]\n",
    "\n",
    "        results = cudaq.observe(self.kernel, self.hamiltonian, qubit_count,\n",
    "                                theta_vals)\n",
    "\n",
    "        exp_vals = [results[i].expectation() for i in range(len(results))]\n",
    "        exp_vals = torch.Tensor(exp_vals).to(device)\n",
    "\n",
    "        return exp_vals\n",
    "\n",
    "    @staticmethod\n",
    "    def forward(ctx, thetas: torch.tensor, quantum_circuit,\n",
    "                shift) -> torch.tensor:\n",
    "\n",
    "        # Save shift and quantum_circuit in context to use in backward.\n",
    "        ctx.shift = shift\n",
    "        ctx.quantum_circuit = quantum_circuit\n",
    "\n",
    "        # Calculate expectation value. get -1 or 1\n",
    "        exp_vals = ctx.quantum_circuit.run(thetas).reshape(-1, 1)\n",
    "\n",
    "        ctx.save_for_backward(thetas, exp_vals)\n",
    "\n",
    "        return exp_vals\n",
    "\n",
    "    @staticmethod\n",
    "    def backward(ctx, grad_output):\n",
    "        \"\"\"Backward pass computation via finite difference\"\"\"\n",
    "\n",
    "        thetas, _ = ctx.saved_tensors\n",
    "\n",
    "        gradients = torch.zeros(thetas.shape, device=device)\n",
    "\n",
    "        for i in range(thetas.shape[1]):\n",
    "\n",
    "            thetas_plus = thetas.clone()\n",
    "            thetas_plus[:, i] += ctx.shift\n",
    "            exp_vals_plus = ctx.quantum_circuit.run(thetas_plus)\n",
    "\n",
    "            thetas_minus = thetas.clone()\n",
    "            thetas_minus[:, i] -= ctx.shift\n",
    "            exp_vals_minus = ctx.quantum_circuit.run(thetas_minus)\n",
    "\n",
    "            gradients[:, i] = (exp_vals_plus - exp_vals_minus) / (2 * ctx.shift)\n",
    "\n",
    "        gradients = torch.mul(grad_output, gradients)\n",
    "\n",
    "        return gradients, None, None"
   ]
  },
  {
   "cell_type": "code",
   "execution_count": 8,
   "metadata": {},
   "outputs": [],
   "source": [
    "class QuantumLayer(nn.Module):\n",
    "    \"\"\"Encapsulates a quantum circuit into a quantum layer adhering PyTorch convention\"\"\"\n",
    "\n",
    "    def __init__(self, qubit_count: int, hamiltonian, shift: torch.tensor):\n",
    "        super(QuantumLayer, self).__init__()\n",
    "\n",
    "        self.quantum_circuit = QuantumFunction(qubit_count, hamiltonian)\n",
    "        self.shift = shift\n",
    "\n",
    "    def forward(self, input):\n",
    "\n",
    "        result = QuantumFunction.apply(input, self.quantum_circuit, self.shift)\n",
    "\n",
    "        return result"
   ]
  },
  {
   "cell_type": "code",
   "execution_count": 9,
   "metadata": {},
   "outputs": [],
   "source": [
    "class Hybrid_QNN(nn.Module):\n",
    "    \"\"\"Structure of the hybrid neural network with classical fully connected layers and quantum layers\"\"\"\n",
    "\n",
    "    def __init__(self):\n",
    "        super(Hybrid_QNN, self).__init__()\n",
    "\n",
    "        self.fc1 = nn.Linear(28 * 28, 256)\n",
    "        self.fc2 = nn.Linear(256, 128)\n",
    "        self.dropout = nn.Dropout(0.25)\n",
    "\n",
    "        self.fc3 = nn.Linear(128, 64)\n",
    "        self.fc4 = nn.Linear(64, 32)\n",
    "        self.fc5 = nn.Linear(32, 2)\n",
    "        self.dropout = nn.Dropout(0.25)\n",
    "\n",
    "        # The 2 outputs from PyTorch fc5 layer feed into the 2 variational gates in the quantum circuit.\n",
    "        self.quantum = QuantumLayer(qubit_count, hamiltonian, shift)\n",
    "\n",
    "    def forward(self, x):\n",
    "\n",
    "        x = x.view(-1, 28 * 28)  # Turns images into vectors.\n",
    "\n",
    "        x = torch.relu(self.fc1(x))\n",
    "        x = torch.relu(self.fc2(x))\n",
    "        x = self.dropout(x)\n",
    "\n",
    "        x = torch.relu(self.fc3(x))\n",
    "        x = torch.relu(self.fc4(x))\n",
    "        x = torch.relu(self.fc5(x))\n",
    "        x = self.dropout(x)\n",
    "\n",
    "        # Quantum circuit outputs an expectation value which is fed into the sigmoid activation function to perform classification.\n",
    "        x = torch.sigmoid(self.quantum(x))\n",
    "\n",
    "        return x.view(-1)"
   ]
  },
  {
   "cell_type": "code",
   "execution_count": 10,
   "metadata": {},
   "outputs": [],
   "source": [
    "def accuracy_score(y, y_hat):\n",
    "    return sum((y == (y_hat >= classification_threshold))) / len(y)"
   ]
  },
  {
   "cell_type": "code",
   "execution_count": 11,
   "metadata": {},
   "outputs": [
    {
     "name": "stdout",
     "output_type": "stream",
     "text": [
      "tensor(0.4430, device='cuda:0')\n",
      "tensor(0.4439, device='cuda:0')\n"
     ]
    }
   ],
   "source": [
    "hybrid_model = Hybrid_QNN().to(device)\n",
    "\n",
    "optimizer = optim.Adadelta(hybrid_model.parameters(),\n",
    "                           lr=0.001,\n",
    "                           weight_decay=0.8)\n",
    "\n",
    "loss_function = nn.BCELoss().to(device)\n",
    "\n",
    "training_cost = []\n",
    "testing_cost = []\n",
    "training_accuracy = []\n",
    "testing_accuracy = []\n",
    "\n",
    "hybrid_model.train()\n",
    "for epoch in range(epochs):\n",
    "\n",
    "    optimizer.zero_grad()\n",
    "\n",
    "    y_hat_train = hybrid_model(x_train).to(device)\n",
    "\n",
    "    train_cost = loss_function(y_hat_train, y_train).to(device)\n",
    "\n",
    "    train_cost.backward()\n",
    "\n",
    "    optimizer.step()\n",
    "\n",
    "    training_accuracy.append(accuracy_score(y_train, y_hat_train))\n",
    "    training_cost.append(train_cost.item())\n",
    "\n",
    "    hybrid_model.eval()\n",
    "    with torch.no_grad():\n",
    "\n",
    "        y_hat_test = hybrid_model(x_test).to(device)\n",
    "\n",
    "        test_cost = loss_function(y_hat_test, y_test).to(device)\n",
    "\n",
    "        testing_accuracy.append(accuracy_score(y_test, y_hat_test))\n",
    "        testing_cost.append(test_cost.item())\n",
    "        print(test_cost)"
   ]
  },
  {
   "cell_type": "code",
   "execution_count": null,
   "metadata": {},
   "outputs": [
    {
     "name": "stdout",
     "output_type": "stream",
     "text": [
      "Training Accuracy Types: [<class 'float'>, <class 'float'>]\n",
      "Testing Accuracy Types: [<class 'float'>, <class 'float'>]\n",
      "Training Cost Types: [<class 'float'>, <class 'float'>]\n",
      "Testing Cost Types: [<class 'float'>, <class 'float'>]\n",
      "Training Accuracy: [0.3333333432674408, 0.3333333432674408] Length: 2\n",
      "Testing Accuracy: [1.0, 1.0] Length: 2\n",
      "Training Cost: [0.9738544821739197, 0.9722220301628113] Length: 2\n",
      "Testing Cost: [0.4430261254310608, 0.443948894739151] Length: 2\n"
     ]
    },
    {
     "data": {
      "image/png": "[encoded data removed]",
      "text/plain": [
       "<Figure size 1000x500 with 2 Axes>"
      ]
     },
     "metadata": {},
     "output_type": "display_data"
    }
   ],
   "source": [
    "import matplotlib.pyplot as plt\n",
    "\n",
    "# Ensure all items in the lists are converted to NumPy arrays\n",
    "training_accuracy = [x.detach().cpu().numpy() if isinstance(x, torch.Tensor) else x for x in training_accuracy]\n",
    "testing_accuracy = [x.detach().cpu().numpy() if isinstance(x, torch.Tensor) else x for x in testing_accuracy]\n",
    "training_cost = [x.detach().cpu().numpy() if isinstance(x, torch.Tensor) else x for x in training_cost]\n",
    "testing_cost = [x.detach().cpu().numpy() if isinstance(x, torch.Tensor) else x for x in testing_cost]\n",
    "\n",
    "print(\"Training Accuracy Types:\", [type(x) for x in training_accuracy])\n",
    "print(\"Testing Accuracy Types:\", [type(x) for x in testing_accuracy])\n",
    "print(\"Training Cost Types:\", [type(x) for x in training_cost])\n",
    "print(\"Testing Cost Types:\", [type(x) for x in testing_cost])\n",
    "\n",
    "training_accuracy = [float(x) for x in training_accuracy]\n",
    "testing_accuracy = [float(x) for x in testing_accuracy]\n",
    "training_cost = [float(x) for x in training_cost]\n",
    "testing_cost = [float(x) for x in testing_cost]\n",
    "print(\"Training Accuracy:\", training_accuracy[:5], \"Length:\", len(training_accuracy))\n",
    "print(\"Testing Accuracy:\", testing_accuracy[:5], \"Length:\", len(testing_accuracy))\n",
    "print(\"Training Cost:\", training_cost[:5], \"Length:\", len(training_cost))\n",
    "print(\"Testing Cost:\", testing_cost[:5], \"Length:\", len(testing_cost))\n",
    "# Plotting\n",
    "plt.figure(figsize=(10, 5))\n",
    "\n",
    "plt.subplot(1, 2, 1)\n",
    "plt.plot(training_cost, label='Train')\n",
    "plt.plot(testing_cost, label='Test')\n",
    "plt.xlabel('Epochs')\n",
    "plt.ylabel('Cost')\n",
    "plt.legend()\n",
    "\n",
    "plt.subplot(1, 2, 2)\n",
    "plt.plot(training_accuracy, label='Train')\n",
    "plt.plot(testing_accuracy, label='Test')\n",
    "plt.xlabel('Epochs')\n",
    "plt.ylabel('Accuracy')\n",
    "plt.legend()\n",
    "\n",
    "plt.tight_layout()\n",
    "plt.show()\n"
   ]
  },
  {
   "cell_type": "code",
   "execution_count": 14,
   "metadata": {},
   "outputs": [
    {
     "name": "stdout",
     "output_type": "stream",
     "text": [
      "CUDA-Q Version proto-0.8.0-developer (https://github.com/NVIDIA/cuda-quantum 018ba9130a0e5800b93e86d0096a22daf7a132f8)\n"
     ]
    }
   ],
   "source": [
    "print(cudaq.__version__)"
   ]
  }
 ],
 "metadata": {
  "kernelspec": {
   "display_name": "cudaq",
   "language": "python",
   "name": "cudaq"
  },
  "language_info": {
   "codemirror_mode": {
    "name": "ipython",
    "version": 3
   },
   "file_extension": ".py",
   "mimetype": "text/x-python",
   "name": "python",
   "nbconvert_exporter": "python",
   "pygments_lexer": "ipython3",
   "version": "3.10.14"
  },
  "orig_nbformat": 4
 },
 "nbformat": 4,
 "nbformat_minor": 2
}
