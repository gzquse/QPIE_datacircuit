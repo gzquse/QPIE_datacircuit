{
 "cells": [
  {
   "cell_type": "code",
   "execution_count": 1,
   "metadata": {},
   "outputs": [],
   "source": [
    "# Use Braket SDK Cost Tracking to estimate the cost to run this example\n",
    "from braket.tracking import Tracker\n",
    "t = Tracker().start()"
   ]
  },
  {
   "cell_type": "code",
   "execution_count": 2,
   "metadata": {},
   "outputs": [],
   "source": [
    "from braket.devices import Devices\n",
    "import pennylane as qml\n",
    "from pennylane import qchem\n",
    "from pennylane import numpy as np\n",
    "import time"
   ]
  },
  {
   "cell_type": "code",
   "execution_count": 3,
   "metadata": {},
   "outputs": [
    {
     "name": "stdout",
     "output_type": "stream",
     "text": [
      "Number of qubits: 16\n"
     ]
    }
   ],
   "source": [
    "n_electrons = 8\n",
    "symbols, coordinates = qchem.read_structure('qchem/co2.xyz')\n",
    "# suppress a HDF5 warning\n",
    "import warnings\n",
    "with warnings.catch_warnings():\n",
    "    warnings.simplefilter('ignore')\n",
    "    H, qubits = qchem.molecular_hamiltonian(symbols,\n",
    "                                            coordinates,\n",
    "                                            method=\"pyscf\",\n",
    "                                            active_electrons=n_electrons,\n",
    "                                            name=\"co2\")\n",
    "print(f\"Number of qubits: {qubits}\")"
   ]
  },
  {
   "cell_type": "code",
   "execution_count": 4,
   "metadata": {},
   "outputs": [
    {
     "name": "stdout",
     "output_type": "stream",
     "text": [
      "Number of single excitations:  32\n",
      "Number of double excitations:  328\n"
     ]
    }
   ],
   "source": [
    "# Hartree-Fock state\n",
    "hf_state = qchem.hf_state(n_electrons, qubits)\n",
    "# generate single- and double-excitations\n",
    "singles, doubles = qchem.excitations(n_electrons, qubits)\n",
    "print(\"Number of single excitations: \", len(singles))\n",
    "print(\"Number of double excitations: \", len(doubles))"
   ]
  },
  {
   "cell_type": "markdown",
   "metadata": {},
   "source": [
    "# Adaptive VQE"
   ]
  },
  {
   "cell_type": "markdown",
   "metadata": {},
   "source": [
    "In general, we do not know which excitations are important (contribute a lot to the final energy) and which are not (contribute little). [Grimsley et al.](https://www.nature.com/articles/s41467-019-10988-2) developed the ADAPT-VQE algorithm, which allows us to perform this desired filtering. The steps to be followed are:\n",
    "  1. Compute derivatives with respect to all `doubles` excitations\n",
    "  2. Filter out all `doubles` with derivatives below some cutoff\n",
    "  3. Optimize the remaining `doubles` excitations\n",
    "  4. Compute derivatives with respect to all `singles` excitatations, keeping the filtered-and-optimized `doubles` fixed\n",
    "  5. Filter out all `singles` with derivatives below some cutoff\n",
    "  6. Optimize all remaining `singles` and `doubles` excitations\n",
    "  7. Compute the final energy"
   ]
  },
  {
   "cell_type": "markdown",
   "metadata": {},
   "source": [
    "# Running adaptive VQE with adjoint differentiation"
   ]
  },
  {
   "cell_type": "markdown",
   "metadata": {},
   "source": [
    "We'll need to set up the device to use with PennyLane. Because the qubit count is 16, this workflow is a good candidate for SV1, the Amazon Braket on-demand state vector simulator. SV1 now supports two gradient computation methods in `shots=0` (exact) mode: adjoint differentiation, available by setting `diff_method='device'`, and parameter shift, available by setting `diff_method='parameter-shift'`. As shown in [the adjoint gradient example notebook](../../braket_features/Using_The_Adjoint_Gradient_Result_Type.ipynb), the adjoint differentiation method is an execution-frugal way to compute gradients. When using `parameter-shift`, each partial derivative in the gradient requires *two* circuit executions to compute, but with the adjoint method we can compute *all* partial derivatives (and thus the entire gradient) with one circuit execution and the \"back-stepping\" procedure, which is similar in runtime. The adjoint method can deliver a quadratic speedup in the number of parameters, making it a great choice when the number of parameterized gates is large, as it is for our problem."
   ]
  },
  {
   "cell_type": "code",
   "execution_count": 5,
   "metadata": {},
   "outputs": [],
   "source": [
    "# set the device and differentiation method\n",
    "device_arn = Devices.Amazon.SV1\n",
    "dev = qml.device(\"braket.aws.qubit\", device_arn=device_arn, wires=qubits, shots=0)\n",
    "diff_method = 'device'"
   ]
  },
  {
   "cell_type": "code",
   "execution_count": 6,
   "metadata": {},
   "outputs": [],
   "source": [
    "@qml.qnode(dev, diff_method=diff_method)\n",
    "def circuit_1(params, excitations):\n",
    "    qml.BasisState(hf_state, wires=H.wires)\n",
    "    for i, excitation in enumerate(excitations):\n",
    "        if len(excitation) == 4:\n",
    "            qml.DoubleExcitation(params[i], wires=excitation)\n",
    "        else:\n",
    "            qml.SingleExcitation(params[i], wires=excitation)\n",
    "    return qml.expval(H)"
   ]
  },
  {
   "cell_type": "markdown",
   "metadata": {},
   "source": [
    "<div class=\"alert alert-block alert-warning\">\n",
    "<b>Caution</b> This cell may take about 30s to run on SV1.\n",
    "</div>"
   ]
  },
  {
   "cell_type": "code",
   "execution_count": 7,
   "metadata": {},
   "outputs": [
    {
     "name": "stdout",
     "output_type": "stream",
     "text": [
      "Time to compute all double excitation derivatives with adjoint differentiation: 36.21157622337341\n"
     ]
    }
   ],
   "source": [
    "circuit_gradient = qml.grad(circuit_1, argnum=0)\n",
    "doubles_select = []\n",
    "params = [0.0] * len(doubles)\n",
    "\n",
    "adjoint_doubles_start = time.time()\n",
    "\n",
    "doubles_grads = circuit_gradient(params, excitations=doubles)\n",
    "\n",
    "adjoint_doubles_stop = time.time()\n",
    "adjoint_doubles_time = adjoint_doubles_stop - adjoint_doubles_start\n",
    "print(f\"Time to compute all double excitation derivatives with adjoint differentiation: {adjoint_doubles_time}\")"
   ]
  },
  {
   "cell_type": "code",
   "execution_count": 8,
   "metadata": {},
   "outputs": [
    {
     "name": "stdout",
     "output_type": "stream",
     "text": [
      "Total number of doubles 328\n",
      "Total number of selected doubles 84\n"
     ]
    }
   ],
   "source": [
    "doubles_select = [doubles[i] for i in range(len(doubles)) if abs(doubles_grads[i]) > 1.0e-5]\n",
    "print(f\"Total number of doubles {len(doubles)}\")\n",
    "print(f\"Total number of selected doubles {len(doubles_select)}\")"
   ]
  },
  {
   "cell_type": "code",
   "execution_count": 9,
   "metadata": {},
   "outputs": [
    {
     "name": "stdout",
     "output_type": "stream",
     "text": [
      "Iteration 0 of doubles optimization.\n",
      "Iteration 1 of doubles optimization.\n",
      "Iteration 2 of doubles optimization.\n",
      "Iteration 3 of doubles optimization.\n",
      "Iteration 4 of doubles optimization.\n",
      "Iteration 5 of doubles optimization.\n",
      "Iteration 6 of doubles optimization.\n",
      "Iteration 7 of doubles optimization.\n",
      "Iteration 8 of doubles optimization.\n",
      "Iteration 9 of doubles optimization.\n"
     ]
    }
   ],
   "source": [
    "stepsize=0.4\n",
    "\n",
    "opt = qml.GradientDescentOptimizer(stepsize=stepsize)\n",
    "iterations = 10\n",
    "\n",
    "params_doubles = np.zeros(len(doubles_select), requires_grad=True)\n",
    "\n",
    "for n in range(iterations):\n",
    "    print(f\"Iteration {n} of doubles optimization.\")\n",
    "    params_doubles = opt.step(circuit_1, params_doubles, excitations=doubles_select)"
   ]
  },
  {
   "cell_type": "code",
   "execution_count": 10,
   "metadata": {},
   "outputs": [],
   "source": [
    "@qml.qnode(dev, diff_method=diff_method)\n",
    "def circuit_2(params, excitations, gates_select, params_select):\n",
    "    qml.BasisState(hf_state, wires=H.wires)\n",
    "\n",
    "    for i, gate in enumerate(gates_select):\n",
    "        if len(gate) == 4:\n",
    "            qml.DoubleExcitation(params_select[i], wires=gate)\n",
    "        elif len(gate) == 2:\n",
    "            qml.SingleExcitation(params_select[i], wires=gate)\n",
    "\n",
    "    for i, gate in enumerate(excitations):\n",
    "        if len(gate) == 4:\n",
    "            qml.DoubleExcitation(params[i], wires=gate)\n",
    "        elif len(gate) == 2:\n",
    "            qml.SingleExcitation(params[i], wires=gate)\n",
    "\n",
    "    return qml.expval(H)"
   ]
  },
  {
   "cell_type": "code",
   "execution_count": 11,
   "metadata": {
    "scrolled": true
   },
   "outputs": [
    {
     "name": "stdout",
     "output_type": "stream",
     "text": [
      "Time to compute all singles derivatives with adjoint differentiation: 25.915367364883423\n"
     ]
    }
   ],
   "source": [
    "circuit_gradient = qml.grad(circuit_2, argnum=0)\n",
    "params = [0.0] * len(singles)\n",
    "\n",
    "adjoint_singles_start = time.time()\n",
    "\n",
    "singles_grads = circuit_gradient(params, excitations=singles, gates_select=doubles_select, params_select=params_doubles)\n",
    "\n",
    "adjoint_singles_stop = time.time()\n",
    "adjoint_singles_time = adjoint_singles_stop - adjoint_singles_start\n",
    "print(f\"Time to compute all singles derivatives with adjoint differentiation: {adjoint_singles_time}\")"
   ]
  },
  {
   "cell_type": "code",
   "execution_count": 12,
   "metadata": {},
   "outputs": [
    {
     "name": "stdout",
     "output_type": "stream",
     "text": [
      "Total number of singles 32\n",
      "Total number of selected singles 4\n"
     ]
    }
   ],
   "source": [
    "singles_select = [singles[i] for i in range(len(singles)) if abs(singles_grads[i]) > 1.0e-5]\n",
    "print(f\"Total number of singles {len(singles)}\")\n",
    "print(f\"Total number of selected singles {len(singles_select)}\")"
   ]
  },
  {
   "cell_type": "code",
   "execution_count": 13,
   "metadata": {},
   "outputs": [
    {
     "name": "stdout",
     "output_type": "stream",
     "text": [
      "Iteration 0 of full optimization.\n",
      "Iteration 1 of full optimization.\n",
      "Iteration 2 of full optimization.\n",
      "Iteration 3 of full optimization.\n",
      "Iteration 4 of full optimization.\n",
      "Iteration 5 of full optimization.\n",
      "Iteration 6 of full optimization.\n",
      "Iteration 7 of full optimization.\n",
      "Iteration 8 of full optimization.\n",
      "Iteration 9 of full optimization.\n"
     ]
    }
   ],
   "source": [
    "params = np.zeros(len(doubles_select + singles_select), requires_grad=True)\n",
    "gates_select = doubles_select + singles_select\n",
    "\n",
    "best_energy = 0.0\n",
    "for n in range(iterations):\n",
    "    print(f\"Iteration {n} of full optimization.\")\n",
    "    params, energy = opt.step_and_cost(circuit_1, params, excitations=gates_select)\n",
    "    best_energy=energy.numpy()\n"
   ]
  },
  {
   "cell_type": "code",
   "execution_count": 14,
   "metadata": {},
   "outputs": [
    {
     "name": "stdout",
     "output_type": "stream",
     "text": [
      "Best energy: -184.90548216687063\n"
     ]
    }
   ],
   "source": [
    "print(f\"Best energy: {best_energy}\")"
   ]
  },
  {
   "cell_type": "code",
   "execution_count": 15,
   "metadata": {},
   "outputs": [],
   "source": [
    "diff_method = 'parameter-shift'\n",
    "doubles_count = min(35, len(doubles))\n",
    "doubles_ps = doubles[:doubles_count]"
   ]
  },
  {
   "cell_type": "code",
   "execution_count": 16,
   "metadata": {},
   "outputs": [],
   "source": [
    "@qml.qnode(dev, diff_method=diff_method)\n",
    "def circuit_1_ps_serial(params, excitations):\n",
    "    qml.BasisState(hf_state, wires=H.wires)\n",
    "    for i, excitation in enumerate(excitations):\n",
    "        if len(excitation) == 4:\n",
    "            qml.DoubleExcitation(params[i], wires=excitation)\n",
    "        else:\n",
    "            qml.SingleExcitation(params[i], wires=excitation)\n",
    "    return qml.expval(H)"
   ]
  },
  {
   "cell_type": "code",
   "execution_count": 17,
   "metadata": {},
   "outputs": [
    {
     "name": "stdout",
     "output_type": "stream",
     "text": [
      "Time to compute 35 double excitation derivatives using unbatched parameter shift: 3186.5143387317657\n"
     ]
    }
   ],
   "source": [
    "circuit_gradient = qml.grad(circuit_1_ps_serial, argnum=0)\n",
    "params = [0.0] * doubles_count\n",
    "\n",
    "doubles_ps_unbatched_start = time.time()\n",
    "\n",
    "unbatched_grads = circuit_gradient(params, excitations=doubles_ps)\n",
    "\n",
    "doubles_ps_unbatched_stop = time.time()\n",
    "doubles_ps_unbatched_time = doubles_ps_unbatched_stop - doubles_ps_unbatched_start\n",
    "print(f\"Time to compute {doubles_count} double excitation derivatives using unbatched parameter shift: {doubles_ps_unbatched_time}\")"
   ]
  },
  {
   "cell_type": "code",
   "execution_count": 18,
   "metadata": {},
   "outputs": [],
   "source": [
    "dev_parallel = qml.device(\n",
    "    \"braket.aws.qubit\",\n",
    "    device_arn=device_arn,\n",
    "    wires=qubits,\n",
    "    shots=0,\n",
    "    parallel=True,\n",
    ")\n",
    "@qml.qnode(dev_parallel, diff_method=diff_method)\n",
    "def circuit_1_ps_parallel(params, excitations): # must redefine due to new device\n",
    "    qml.BasisState(hf_state, wires=H.wires)\n",
    "    for i, excitation in enumerate(excitations):\n",
    "        if len(excitation) == 4:\n",
    "            qml.DoubleExcitation(params[i], wires=excitation)\n",
    "        else:\n",
    "            qml.SingleExcitation(params[i], wires=excitation)\n",
    "    return qml.expval(H)"
   ]
  },
  {
   "cell_type": "code",
   "execution_count": 20,
   "metadata": {},
   "outputs": [
    {
     "name": "stdout",
     "output_type": "stream",
     "text": [
      "Extrapolated time to compute all doubles derivatives with unbatched parameter shift: 29862.191517257692\n"
     ]
    }
   ],
   "source": [
    "extrapolated_unbatched_ps_time = doubles_ps_unbatched_time * (len(doubles)/doubles_count)\n",
    "print(f\"Extrapolated time to compute all doubles derivatives with unbatched parameter shift: {extrapolated_unbatched_ps_time}\")"
   ]
  },
  {
   "cell_type": "code",
   "execution_count": 21,
   "metadata": {},
   "outputs": [
    {
     "name": "stdout",
     "output_type": "stream",
     "text": [
      "Extrapolated time to compute all doubles derivatives with batched parameter shift: 16891.023650142124\n"
     ]
    }
   ],
   "source": [
    "extrapolated_batched_ps_time = doubles_ps_batched_time * (len(doubles)/doubles_count)\n",
    "print(f\"Extrapolated time to compute all doubles derivatives with batched parameter shift: {extrapolated_batched_ps_time}\")"
   ]
  },
  {
   "cell_type": "code",
   "execution_count": 22,
   "metadata": {},
   "outputs": [
    {
     "name": "stdout",
     "output_type": "stream",
     "text": [
      "Time to compute all doubles derivatives:\n",
      "Ratio of (extrapolated) unbatched parameter shift time to adjoint time: 824.6587039749627\n"
     ]
    }
   ],
   "source": [
    "adjoint_vs_unbatched_ps = extrapolated_unbatched_ps_time / adjoint_doubles_time\n",
    "print(f\"Time to compute all doubles derivatives:\\nRatio of (extrapolated) unbatched parameter shift time to adjoint time: {adjoint_vs_unbatched_ps}\")"
   ]
  },
  {
   "cell_type": "code",
   "execution_count": 23,
   "metadata": {},
   "outputs": [
    {
     "name": "stdout",
     "output_type": "stream",
     "text": [
      "Time to compute all doubles derivatives:\n",
      "Ratio of (extrapolated) batched parameter shift time to adjoint time: 466.453698285564\n"
     ]
    }
   ],
   "source": [
    "adjoint_vs_batched_ps = extrapolated_batched_ps_time / adjoint_doubles_time\n",
    "print(f\"Time to compute all doubles derivatives:\\nRatio of (extrapolated) batched parameter shift time to adjoint time: {adjoint_vs_batched_ps}\")"
   ]
  },
  {
   "cell_type": "code",
   "execution_count": 24,
   "metadata": {},
   "outputs": [
    {
     "name": "stdout",
     "output_type": "stream",
     "text": [
      "[-0.044793067882551406, 0.0, 0.0, 0.0, 0.0, 0.0, 0.0, -0.04479306788255156, 0.0, 0.0, 0.0, 0.0, -0.03548100882402628, 0.0, 0.0, -0.023288073123347845, 0.0, 0.0, 0.0, 0.0, 0.0, -0.012217382659441306, 0.0, 0.0, 0.0, 0.0, 0.0, 0.0, 0.0, 0.0, 0.0, 0.0, 0.0, 0.0, 0.0]\n",
      "[-0.044793067882545376, -6.1928479400457334e-15, 2.6531566187835427e-15, -8.942675704972513e-16, 1.7746123057175047e-15, 5.901095647171372e-15, 1.1868639193156705e-15, -0.044793067882549185, 4.7342881085964644e-15, 8.820892689029992e-16, 1.4863490802086347e-15, 5.90638513669108e-15, -0.03548100882403037, -6.2279833078444984e-15, -2.6752696290439975e-15, -0.023288073123352977, 1.6921423417461336e-15, 2.670274324449899e-15, -2.815484849928097e-15, -2.0406466188365425e-17, -5.810940290979032e-15, -0.01221738265940523, 6.8565100157100086e-15, 5.280719959261674e-15, 6.1969905855345365e-15, -2.171061239200851e-15, 5.089076788104875e-16, -2.6180781927668725e-15, 5.3732805495666735e-15, 6.131155462712434e-16, 3.811084445308944e-15, -6.333324218826695e-15, -3.5324021440048863e-15, -4.675311186009487e-15, 5.167609105081913e-15]\n"
     ]
    }
   ],
   "source": [
    "adjoint_derivs = [d.numpy() for d in doubles_grads[:doubles_count]]\n",
    "unbatched_derivs = [d.numpy() for d in unbatched_grads[:doubles_count]]\n",
    "print(adjoint_derivs)\n",
    "print(unbatched_derivs)\n",
    "assert np.allclose(adjoint_derivs, unbatched_derivs)"
   ]
  },
  {
   "cell_type": "code",
   "execution_count": 25,
   "metadata": {},
   "outputs": [
    {
     "name": "stdout",
     "output_type": "stream",
     "text": [
      "[-0.044793067882545376, -6.1928479400457334e-15, 2.6531566187835427e-15, -8.942675704972513e-16, 1.7746123057175047e-15, 5.901095647171372e-15, 1.1868639193156705e-15, -0.044793067882549185, 4.7342881085964644e-15, 8.820892689029992e-16, 1.4863490802086347e-15, 5.90638513669108e-15, -0.03548100882403037, -6.2279833078444984e-15, -2.6752696290439975e-15, -0.023288073123352977, 1.6921423417461336e-15, 2.670274324449899e-15, -2.815484849928097e-15, -2.0406466188365425e-17, -5.810940290979032e-15, -0.01221738265940523, 6.8565100157100086e-15, 5.280719959261674e-15, 6.1969905855345365e-15, -2.171061239200851e-15, 5.089076788104875e-16, -2.6180781927668725e-15, 5.3732805495666735e-15, 6.131155462712434e-16, 3.811084445308944e-15, -6.333324218826695e-15, -3.5324021440048863e-15, -4.675311186009487e-15, 5.167609105081913e-15]\n"
     ]
    }
   ],
   "source": [
    "batched_derivs = [d.numpy() for d in batched_grads[:doubles_count]]\n",
    "print(batched_derivs)\n",
    "assert np.allclose(adjoint_derivs, batched_derivs)"
   ]
  }
 ],
 "metadata": {
  "kernelspec": {
   "display_name": "conda_braket",
   "language": "python",
   "name": "conda_braket"
  },
  "language_info": {
   "codemirror_mode": {
    "name": "ipython",
    "version": 3
   },
   "file_extension": ".py",
   "mimetype": "text/x-python",
   "name": "python",
   "nbconvert_exporter": "python",
   "pygments_lexer": "ipython3",
   "version": "3.7.15"
  }
 },
 "nbformat": 4,
 "nbformat_minor": 4
}
