{
 "cells": [
  {
   "cell_type": "code",
   "execution_count": 2,
   "id": "235fe7b4-7558-4983-9916-680d181c6205",
   "metadata": {
    "tags": []
   },
   "outputs": [
    {
     "name": "stdout",
     "output_type": "stream",
     "text": [
      "Defaulting to user installation because normal site-packages is not writeable\n",
      "\u001b[33mDEPRECATION: Loading egg at /global/common/software/nersc9/pytorch/2.3.1/lib/python3.11/site-packages/torchvision-0.18.0a0+6043bc2-py3.11-linux-x86_64.egg is deprecated. pip 24.3 will enforce this behaviour change. A possible replacement is to use pip for package installation.. Discussion can be found at https://github.com/pypa/pip/issues/12330\u001b[0m\u001b[33m\n",
      "\u001b[0mCollecting jax\n",
      "  Using cached jax-0.4.38-py3-none-any.whl.metadata (22 kB)\n",
      "Collecting jaxlib<=0.4.38,>=0.4.38 (from jax)\n",
      "  Using cached jaxlib-0.4.38-cp311-cp311-manylinux2014_x86_64.whl.metadata (1.0 kB)\n",
      "Collecting ml_dtypes>=0.4.0 (from jax)\n",
      "  Using cached ml_dtypes-0.5.1-cp311-cp311-manylinux_2_17_x86_64.manylinux2014_x86_64.whl.metadata (21 kB)\n",
      "Requirement already satisfied: numpy>=1.24 in /global/common/software/nersc9/pytorch/2.3.1/lib/python3.11/site-packages (from jax) (1.26.4)\n",
      "Collecting opt_einsum (from jax)\n",
      "  Using cached opt_einsum-3.4.0-py3-none-any.whl.metadata (6.3 kB)\n",
      "Requirement already satisfied: scipy>=1.10 in /global/common/software/nersc9/pytorch/2.3.1/lib/python3.11/site-packages (from jax) (1.13.1)\n",
      "Using cached jax-0.4.38-py3-none-any.whl (2.2 MB)\n",
      "Using cached jaxlib-0.4.38-cp311-cp311-manylinux2014_x86_64.whl (101.8 MB)\n",
      "Using cached ml_dtypes-0.5.1-cp311-cp311-manylinux_2_17_x86_64.manylinux2014_x86_64.whl (4.7 MB)\n",
      "Using cached opt_einsum-3.4.0-py3-none-any.whl (71 kB)\n",
      "Installing collected packages: opt_einsum, ml_dtypes, jaxlib, jax\n",
      "Successfully installed jax-0.4.38 jaxlib-0.4.38 ml_dtypes-0.5.1 opt_einsum-3.4.0\n",
      "Note: you may need to restart the kernel to use updated packages.\n"
     ]
    }
   ],
   "source": [
    "%pip install jax"
   ]
  },
  {
   "cell_type": "code",
   "execution_count": 7,
   "id": "initial_id",
   "metadata": {
    "ExecuteTime": {
     "end_time": "2024-01-31T19:45:38.296664485Z",
     "start_time": "2024-01-31T19:45:35.119875310Z"
    },
    "tags": []
   },
   "outputs": [],
   "source": [
    "import pennylane as qml\n",
    "import jax\n",
    "from jax import numpy as np\n",
    "# PyTorch\n",
    "import torch\n",
    "import torch.nn as nn\n",
    "import torch.optim as optim\n",
    "from torch.optim import lr_scheduler\n",
    "import torchvision\n",
    "from torchvision import datasets, transforms\n",
    "\n",
    "jax.config.update(\"jax_platform_name\", \"cpu\")\n"
   ]
  },
  {
   "cell_type": "code",
   "execution_count": 10,
   "id": "2840e71633920eb2",
   "metadata": {
    "ExecuteTime": {
     "end_time": "2024-01-31T19:46:56.595637163Z",
     "start_time": "2024-01-31T19:46:56.541037725Z"
    },
    "collapsed": false,
    "jupyter": {
     "outputs_hidden": false
    },
    "tags": []
   },
   "outputs": [],
   "source": [
    "dev = qml.device(\"default.qubit\", wires=2)\n",
    "\n",
    "x = np.array([0.1, 0.2, 0.3])\n",
    "\n",
    "@qml.qnode(dev, diff_method=\"adjoint\")\n",
    "def circuit(a):\n",
    "    qml.RX(a[0], wires=0)\n",
    "    qml.CNOT(wires=(0,1))\n",
    "    qml.RY(a[1], wires=1)\n",
    "    qml.RZ(a[2], wires=1)\n",
    "    return qml.expval(qml.PauliX(wires=1))"
   ]
  },
  {
   "cell_type": "code",
   "execution_count": 11,
   "id": "f8d27db102e12f88",
   "metadata": {
    "ExecuteTime": {
     "end_time": "2024-01-31T19:47:01.119561215Z",
     "start_time": "2024-01-31T19:47:01.064012826Z"
    },
    "collapsed": false,
    "jupyter": {
     "outputs_hidden": false
    },
    "tags": []
   },
   "outputs": [
    {
     "data": {
      "text/plain": [
       "<default.qubit device (wires=2) at 0x7fd0ac3ccf10>"
      ]
     },
     "execution_count": 11,
     "metadata": {},
     "output_type": "execute_result"
    }
   ],
   "source": [
    "dev\n"
   ]
  },
  {
   "cell_type": "code",
   "execution_count": 12,
   "id": "10c8130e9c96ce53",
   "metadata": {
    "ExecuteTime": {
     "end_time": "2024-01-31T19:48:43.951006531Z",
     "start_time": "2024-01-31T19:48:43.903092770Z"
    },
    "collapsed": false,
    "jupyter": {
     "outputs_hidden": false
    },
    "tags": []
   },
   "outputs": [],
   "source": [
    "n_gates = 4\n",
    "n_params = 3\n",
    "\n",
    "ops = [\n",
    "    qml.RX(x[0], wires=0),\n",
    "    qml.CNOT(wires=(0,1)),\n",
    "    qml.RY(x[1], wires=1),\n",
    "    qml.RZ(x[2], wires=1)\n",
    "]\n",
    "M = qml.PauliX(wires=1)"
   ]
  },
  {
   "cell_type": "code",
   "execution_count": 13,
   "id": "759cb0014e4f2427",
   "metadata": {
    "ExecuteTime": {
     "end_time": "2024-01-31T19:48:45.560888131Z",
     "start_time": "2024-01-31T19:48:44.171294472Z"
    },
    "collapsed": false,
    "jupyter": {
     "outputs_hidden": false
    },
    "tags": []
   },
   "outputs": [
    {
     "name": "stdout",
     "output_type": "stream",
     "text": [
      "[[9.8260182e-01-0.14850575j 9.8589033e-02+0.01490028j]\n",
      " [7.4563531e-04+0.00493356j 7.4314815e-03-0.04917107j]]\n"
     ]
    },
    {
     "name": "stderr",
     "output_type": "stream",
     "text": [
      "/global/homes/g/gzquse/.local/perlmutter/pytorch2.3.1/lib/python3.11/site-packages/jax/_src/numpy/array_methods.py:118: UserWarning: Explicitly requested dtype <class 'jax.numpy.complex128'> requested in astype is not available, and will be truncated to dtype complex64. To enable more dtypes, set the jax_enable_x64 configuration option or the JAX_ENABLE_X64 shell environment variable. See https://github.com/jax-ml/jax#current-gotchas for more.\n",
      "  return lax_numpy.astype(self, dtype, copy=copy, device=device)\n",
      "/global/homes/g/gzquse/.local/perlmutter/pytorch2.3.1/lib/python3.11/site-packages/jax/_src/numpy/array_methods.py:118: UserWarning: Explicitly requested dtype <class 'jax.numpy.complex128'> requested in astype is not available, and will be truncated to dtype complex64. To enable more dtypes, set the jax_enable_x64 configuration option or the JAX_ENABLE_X64 shell environment variable. See https://github.com/jax-ml/jax#current-gotchas for more.\n",
      "  return lax_numpy.astype(self, dtype, copy=copy, device=device)\n",
      "/global/homes/g/gzquse/.local/perlmutter/pytorch2.3.1/lib/python3.11/site-packages/jax/_src/numpy/array_methods.py:118: UserWarning: Explicitly requested dtype <class 'jax.numpy.complex128'> requested in astype is not available, and will be truncated to dtype complex64. To enable more dtypes, set the jax_enable_x64 configuration option or the JAX_ENABLE_X64 shell environment variable. See https://github.com/jax-ml/jax#current-gotchas for more.\n",
      "  return lax_numpy.astype(self, dtype, copy=copy, device=device)\n"
     ]
    }
   ],
   "source": [
    "from pennylane.devices.qubit import create_initial_state, apply_operation\n",
    "\n",
    "state = create_initial_state((0, 1))\n",
    "\n",
    "for op in ops:\n",
    "    state = apply_operation(op, state)\n",
    "    \n",
    "print(state)"
   ]
  },
  {
   "cell_type": "code",
   "execution_count": 14,
   "id": "f75e13ab81b24657",
   "metadata": {
    "ExecuteTime": {
     "end_time": "2024-01-31T19:48:45.627991626Z",
     "start_time": "2024-01-31T19:48:45.562097826Z"
    },
    "collapsed": false,
    "jupyter": {
     "outputs_hidden": false
    },
    "tags": []
   },
   "outputs": [],
   "source": [
    "bra = apply_operation(M, state)\n",
    "ket = state"
   ]
  },
  {
   "cell_type": "code",
   "execution_count": 15,
   "id": "d452615bb13faf90",
   "metadata": {
    "ExecuteTime": {
     "end_time": "2024-01-31T19:48:46.849836613Z",
     "start_time": "2024-01-31T19:48:46.806482757Z"
    },
    "collapsed": false,
    "jupyter": {
     "outputs_hidden": false
    },
    "tags": []
   },
   "outputs": [
    {
     "data": {
      "text/plain": [
       "Array([[9.8260182e-01-0.14850575j, 9.8589033e-02+0.01490028j],\n",
       "       [7.4563531e-04+0.00493356j, 7.4314815e-03-0.04917107j]],      dtype=complex64)"
      ]
     },
     "execution_count": 15,
     "metadata": {},
     "output_type": "execute_result"
    }
   ],
   "source": [
    "ket"
   ]
  },
  {
   "cell_type": "code",
   "execution_count": 16,
   "id": "2ebee49d3c99fa1c",
   "metadata": {
    "ExecuteTime": {
     "end_time": "2024-01-30T20:44:49.433959940Z",
     "start_time": "2024-01-30T20:44:49.367671242Z"
    },
    "collapsed": false,
    "jupyter": {
     "outputs_hidden": false
    },
    "tags": []
   },
   "outputs": [
    {
     "name": "stdout",
     "output_type": "stream",
     "text": [
      "vdot (0.18884788+7.275958e-12j)\n",
      "Qnode 0.18884787\n"
     ]
    }
   ],
   "source": [
    "M_expval = np.vdot(bra, ket)\n",
    "print(\"vdot\", M_expval)\n",
    "print(\"Qnode\", circuit(x))"
   ]
  },
  {
   "cell_type": "code",
   "execution_count": 17,
   "id": "33968a05ccb87147",
   "metadata": {
    "ExecuteTime": {
     "end_time": "2024-01-30T20:44:49.565590417Z",
     "start_time": "2024-01-30T20:44:49.433731006Z"
    },
    "collapsed": false,
    "jupyter": {
     "outputs_hidden": false
    },
    "tags": []
   },
   "outputs": [
    {
     "name": "stdout",
     "output_type": "stream",
     "text": [
      "(0.18884787-1.8626451e-09j)\n"
     ]
    },
    {
     "name": "stderr",
     "output_type": "stream",
     "text": [
      "/global/homes/g/gzquse/.local/perlmutter/pytorch2.3.1/lib/python3.11/site-packages/jax/_src/numpy/array_methods.py:118: UserWarning: Explicitly requested dtype <class 'jax.numpy.complex128'> requested in astype is not available, and will be truncated to dtype complex64. To enable more dtypes, set the jax_enable_x64 configuration option or the JAX_ENABLE_X64 shell environment variable. See https://github.com/jax-ml/jax#current-gotchas for more.\n",
      "  return lax_numpy.astype(self, dtype, copy=copy, device=device)\n",
      "/global/homes/g/gzquse/.local/perlmutter/pytorch2.3.1/lib/python3.11/site-packages/jax/_src/numpy/array_methods.py:118: UserWarning: Explicitly requested dtype <class 'jax.numpy.complex128'> requested in astype is not available, and will be truncated to dtype complex64. To enable more dtypes, set the jax_enable_x64 configuration option or the JAX_ENABLE_X64 shell environment variable. See https://github.com/jax-ml/jax#current-gotchas for more.\n",
      "  return lax_numpy.astype(self, dtype, copy=copy, device=device)\n",
      "/global/homes/g/gzquse/.local/perlmutter/pytorch2.3.1/lib/python3.11/site-packages/jax/_src/numpy/array_methods.py:118: UserWarning: Explicitly requested dtype <class 'jax.numpy.complex128'> requested in astype is not available, and will be truncated to dtype complex64. To enable more dtypes, set the jax_enable_x64 configuration option or the JAX_ENABLE_X64 shell environment variable. See https://github.com/jax-ml/jax#current-gotchas for more.\n",
      "  return lax_numpy.astype(self, dtype, copy=copy, device=device)\n",
      "/global/homes/g/gzquse/.local/perlmutter/pytorch2.3.1/lib/python3.11/site-packages/jax/_src/numpy/array_methods.py:118: UserWarning: Explicitly requested dtype <class 'jax.numpy.complex128'> requested in astype is not available, and will be truncated to dtype complex64. To enable more dtypes, set the jax_enable_x64 configuration option or the JAX_ENABLE_X64 shell environment variable. See https://github.com/jax-ml/jax#current-gotchas for more.\n",
      "  return lax_numpy.astype(self, dtype, copy=copy, device=device)\n",
      "/global/homes/g/gzquse/.local/perlmutter/pytorch2.3.1/lib/python3.11/site-packages/jax/_src/numpy/array_methods.py:118: UserWarning: Explicitly requested dtype <class 'jax.numpy.complex128'> requested in astype is not available, and will be truncated to dtype complex64. To enable more dtypes, set the jax_enable_x64 configuration option or the JAX_ENABLE_X64 shell environment variable. See https://github.com/jax-ml/jax#current-gotchas for more.\n",
      "  return lax_numpy.astype(self, dtype, copy=copy, device=device)\n",
      "/global/homes/g/gzquse/.local/perlmutter/pytorch2.3.1/lib/python3.11/site-packages/jax/_src/numpy/array_methods.py:118: UserWarning: Explicitly requested dtype <class 'jax.numpy.complex128'> requested in astype is not available, and will be truncated to dtype complex64. To enable more dtypes, set the jax_enable_x64 configuration option or the JAX_ENABLE_X64 shell environment variable. See https://github.com/jax-ml/jax#current-gotchas for more.\n",
      "  return lax_numpy.astype(self, dtype, copy=copy, device=device)\n"
     ]
    }
   ],
   "source": [
    "bra_n = create_initial_state((0, 1))\n",
    "\n",
    "for op in ops:\n",
    "    bra_n = apply_operation(op, bra_n)\n",
    "bra_n = apply_operation(M, bra_n)\n",
    "bra_n = apply_operation(qml.adjoint(ops[-1]), bra_n)\n",
    "\n",
    "ket_n = create_initial_state((0, 1))\n",
    "\n",
    "for op in ops[:-1]: # don't apply last operation\n",
    "    ket_n = apply_operation(op, ket_n)\n",
    "\n",
    "M_expval_n = np.vdot(bra_n, ket_n)\n",
    "print(M_expval_n)"
   ]
  },
  {
   "cell_type": "code",
   "execution_count": 18,
   "id": "2a91d372d6f40be1",
   "metadata": {
    "ExecuteTime": {
     "end_time": "2024-01-30T20:44:49.625810419Z",
     "start_time": "2024-01-30T20:44:49.563610753Z"
    },
    "collapsed": false,
    "jupyter": {
     "outputs_hidden": false
    },
    "tags": []
   },
   "outputs": [
    {
     "name": "stdout",
     "output_type": "stream",
     "text": [
      "(0.18884787-1.877197e-09j)\n"
     ]
    },
    {
     "name": "stderr",
     "output_type": "stream",
     "text": [
      "/global/homes/g/gzquse/.local/perlmutter/pytorch2.3.1/lib/python3.11/site-packages/jax/_src/numpy/array_methods.py:118: UserWarning: Explicitly requested dtype <class 'jax.numpy.complex128'> requested in astype is not available, and will be truncated to dtype complex64. To enable more dtypes, set the jax_enable_x64 configuration option or the JAX_ENABLE_X64 shell environment variable. See https://github.com/jax-ml/jax#current-gotchas for more.\n",
      "  return lax_numpy.astype(self, dtype, copy=copy, device=device)\n",
      "/global/homes/g/gzquse/.local/perlmutter/pytorch2.3.1/lib/python3.11/site-packages/jax/_src/numpy/array_methods.py:118: UserWarning: Explicitly requested dtype <class 'jax.numpy.complex128'> requested in astype is not available, and will be truncated to dtype complex64. To enable more dtypes, set the jax_enable_x64 configuration option or the JAX_ENABLE_X64 shell environment variable. See https://github.com/jax-ml/jax#current-gotchas for more.\n",
      "  return lax_numpy.astype(self, dtype, copy=copy, device=device)\n"
     ]
    }
   ],
   "source": [
    "bra_n_v2 = apply_operation(M, state)\n",
    "ket_n_v2 = state\n",
    "\n",
    "adj_op = qml.adjoint(ops[-1])\n",
    "\n",
    "bra_n_v2 = apply_operation(adj_op, bra_n_v2)\n",
    "ket_n_v2 = apply_operation(adj_op, ket_n_v2)\n",
    "\n",
    "M_expval_n_v2 = np.vdot(bra_n_v2, ket_n_v2)\n",
    "print(M_expval_n_v2)"
   ]
  },
  {
   "cell_type": "code",
   "execution_count": 11,
   "id": "f9495fba224293cb",
   "metadata": {
    "ExecuteTime": {
     "end_time": "2024-01-30T20:44:49.685000521Z",
     "start_time": "2024-01-30T20:44:49.615646300Z"
    },
    "collapsed": false,
    "jupyter": {
     "outputs_hidden": false
    }
   },
   "outputs": [
    {
     "name": "stdout",
     "output_type": "stream",
     "text": [
      "(0.18884787-1.8626451e-09j)\n",
      "(0.1888479-1.0121918e-09j)\n",
      "(0.1888479-1.0121918e-09j)\n",
      "(0.18884791-1.0121919e-09j)\n"
     ]
    }
   ],
   "source": [
    "bra_loop = apply_operation(M, state)\n",
    "ket_loop = state\n",
    "\n",
    "for op in reversed(ops):\n",
    "    adj_op = qml.adjoint(op)\n",
    "    bra_loop = apply_operation(adj_op, bra_loop)\n",
    "    ket_loop = apply_operation(adj_op, ket_loop)\n",
    "    print(np.vdot(bra_loop, ket_loop))"
   ]
  },
  {
   "cell_type": "code",
   "execution_count": 14,
   "id": "3052351d6f9823e8",
   "metadata": {
    "ExecuteTime": {
     "end_time": "2024-01-30T20:46:02.908779596Z",
     "start_time": "2024-01-30T20:46:02.852852871Z"
    },
    "collapsed": false,
    "jupyter": {
     "outputs_hidden": false
    }
   },
   "outputs": [
    {
     "name": "stdout",
     "output_type": "stream",
     "text": [
      "[[-0.02498958+0.j          0.        -0.49937513j]\n",
      " [ 0.        -0.49937513j -0.02498958+0.j        ]]\n"
     ]
    }
   ],
   "source": [
    "grad_op0 = qml.operation.operation_derivative(ops[0])\n",
    "print(grad_op0)"
   ]
  },
  {
   "cell_type": "code",
   "execution_count": 11,
   "id": "2844fb79e9fccc21",
   "metadata": {
    "ExecuteTime": {
     "end_time": "2024-01-31T19:48:52.062326447Z",
     "start_time": "2024-01-31T19:48:51.100922341Z"
    },
    "collapsed": false,
    "jupyter": {
     "outputs_hidden": false
    }
   },
   "outputs": [
    {
     "name": "stdout",
     "output_type": "stream",
     "text": [
      "our calculation:  [-0.018947992473840714, 0.9316158890724182, -0.05841750279068947]\n",
      "comparison:  [-0.01894799  0.93161577 -0.0584175 ]\n"
     ]
    }
   ],
   "source": [
    "bra = apply_operation(M, state)\n",
    "ket = state\n",
    "\n",
    "grads = []\n",
    "\n",
    "for op in reversed(ops):\n",
    "    adj_op = qml.adjoint(op)\n",
    "    ket = apply_operation(adj_op, ket)\n",
    "\n",
    "    # Calculating the derivative\n",
    "    if op.num_params != 0:\n",
    "        dU = qml.operation.operation_derivative(op)\n",
    "        ket_temp = apply_operation(qml.QubitUnitary(dU, op.wires), ket)\n",
    "\n",
    "        dM = 2 * np.real(np.vdot(bra, ket_temp))\n",
    "        grads.append(dM)\n",
    "\n",
    "    bra = apply_operation(adj_op, bra)\n",
    "\n",
    "\n",
    "# Finally reverse the order of the gradients\n",
    "# since we calculated them in reverse\n",
    "grads = grads[::-1]\n",
    "\n",
    "print(\"our calculation: \", [float(grad) for grad in grads])\n",
    "\n",
    "grad_compare = jax.grad(circuit)(x)\n",
    "print(\"comparison: \", grad_compare)"
   ]
  },
  {
   "cell_type": "code",
   "execution_count": 12,
   "id": "d607f59de20ee4ed",
   "metadata": {
    "ExecuteTime": {
     "end_time": "2024-01-31T19:48:55.811102916Z",
     "start_time": "2024-01-31T19:48:55.765057035Z"
    },
    "collapsed": false,
    "jupyter": {
     "outputs_hidden": false
    }
   },
   "outputs": [
    {
     "name": "stdout",
     "output_type": "stream",
     "text": [
      "[-0.01894799  0.93161577 -0.0584175 ]\n"
     ]
    }
   ],
   "source": [
    "dev_lightning = qml.device('lightning.qubit', wires=2)\n",
    "\n",
    "@qml.qnode(dev_lightning, diff_method=\"adjoint\")\n",
    "def circuit_adjoint(a):\n",
    "    qml.RX(a[0], wires=0)\n",
    "    qml.CNOT(wires=(0,1))\n",
    "    qml.RY(a[1], wires=1)\n",
    "    qml.RZ(a[2], wires=1)\n",
    "    return qml.expval(M)\n",
    "\n",
    "print(jax.grad(circuit_adjoint)(x))"
   ]
  },
  {
   "cell_type": "code",
   "execution_count": 13,
   "id": "9e9b817fd76c1043",
   "metadata": {
    "ExecuteTime": {
     "end_time": "2024-01-31T19:52:08.860820705Z",
     "start_time": "2024-01-31T19:48:55.974832890Z"
    },
    "collapsed": false,
    "jupyter": {
     "outputs_hidden": false
    }
   },
   "outputs": [
    {
     "ename": "FileNotFoundError",
     "evalue": "[Errno 2] No such file or directory: 'adjoint_diff/scaling.png'",
     "output_type": "error",
     "traceback": [
      "\u001b[0;31m---------------------------------------------------------------------------\u001b[0m",
      "\u001b[0;31mFileNotFoundError\u001b[0m                         Traceback (most recent call last)",
      "Cell \u001b[0;32mIn[13], line 114\u001b[0m\n\u001b[1;32m    111\u001b[0m ax2\u001b[38;5;241m.\u001b[39mset_ylabel(\u001b[38;5;124m\"\u001b[39m\u001b[38;5;124mTime\u001b[39m\u001b[38;5;124m\"\u001b[39m)\n\u001b[1;32m    112\u001b[0m ax2\u001b[38;5;241m.\u001b[39mset_title(\u001b[38;5;124m\"\u001b[39m\u001b[38;5;124mScaling with Layers\u001b[39m\u001b[38;5;124m\"\u001b[39m)\n\u001b[0;32m--> 114\u001b[0m \u001b[43mplt\u001b[49m\u001b[38;5;241;43m.\u001b[39;49m\u001b[43msavefig\u001b[49m\u001b[43m(\u001b[49m\u001b[38;5;124;43m\"\u001b[39;49m\u001b[38;5;124;43madjoint_diff/scaling.png\u001b[39;49m\u001b[38;5;124;43m\"\u001b[39;49m\u001b[43m)\u001b[49m\n",
      "File \u001b[0;32m~/PycharmProjects/Hybrid_QML/.venv/lib/python3.10/site-packages/matplotlib/pyplot.py:1119\u001b[0m, in \u001b[0;36msavefig\u001b[0;34m(*args, **kwargs)\u001b[0m\n\u001b[1;32m   1116\u001b[0m fig \u001b[38;5;241m=\u001b[39m gcf()\n\u001b[1;32m   1117\u001b[0m \u001b[38;5;66;03m# savefig default implementation has no return, so mypy is unhappy\u001b[39;00m\n\u001b[1;32m   1118\u001b[0m \u001b[38;5;66;03m# presumably this is here because subclasses can return?\u001b[39;00m\n\u001b[0;32m-> 1119\u001b[0m res \u001b[38;5;241m=\u001b[39m \u001b[43mfig\u001b[49m\u001b[38;5;241;43m.\u001b[39;49m\u001b[43msavefig\u001b[49m\u001b[43m(\u001b[49m\u001b[38;5;241;43m*\u001b[39;49m\u001b[43margs\u001b[49m\u001b[43m,\u001b[49m\u001b[43m \u001b[49m\u001b[38;5;241;43m*\u001b[39;49m\u001b[38;5;241;43m*\u001b[39;49m\u001b[43mkwargs\u001b[49m\u001b[43m)\u001b[49m  \u001b[38;5;66;03m# type: ignore[func-returns-value]\u001b[39;00m\n\u001b[1;32m   1120\u001b[0m fig\u001b[38;5;241m.\u001b[39mcanvas\u001b[38;5;241m.\u001b[39mdraw_idle()  \u001b[38;5;66;03m# Need this if 'transparent=True', to reset colors.\u001b[39;00m\n\u001b[1;32m   1121\u001b[0m \u001b[38;5;28;01mreturn\u001b[39;00m res\n",
      "File \u001b[0;32m~/PycharmProjects/Hybrid_QML/.venv/lib/python3.10/site-packages/matplotlib/figure.py:3390\u001b[0m, in \u001b[0;36mFigure.savefig\u001b[0;34m(self, fname, transparent, **kwargs)\u001b[0m\n\u001b[1;32m   3388\u001b[0m     \u001b[38;5;28;01mfor\u001b[39;00m ax \u001b[38;5;129;01min\u001b[39;00m \u001b[38;5;28mself\u001b[39m\u001b[38;5;241m.\u001b[39maxes:\n\u001b[1;32m   3389\u001b[0m         _recursively_make_axes_transparent(stack, ax)\n\u001b[0;32m-> 3390\u001b[0m \u001b[38;5;28;43mself\u001b[39;49m\u001b[38;5;241;43m.\u001b[39;49m\u001b[43mcanvas\u001b[49m\u001b[38;5;241;43m.\u001b[39;49m\u001b[43mprint_figure\u001b[49m\u001b[43m(\u001b[49m\u001b[43mfname\u001b[49m\u001b[43m,\u001b[49m\u001b[43m \u001b[49m\u001b[38;5;241;43m*\u001b[39;49m\u001b[38;5;241;43m*\u001b[39;49m\u001b[43mkwargs\u001b[49m\u001b[43m)\u001b[49m\n",
      "File \u001b[0;32m~/PycharmProjects/Hybrid_QML/.venv/lib/python3.10/site-packages/matplotlib/backend_bases.py:2193\u001b[0m, in \u001b[0;36mFigureCanvasBase.print_figure\u001b[0;34m(self, filename, dpi, facecolor, edgecolor, orientation, format, bbox_inches, pad_inches, bbox_extra_artists, backend, **kwargs)\u001b[0m\n\u001b[1;32m   2189\u001b[0m \u001b[38;5;28;01mtry\u001b[39;00m:\n\u001b[1;32m   2190\u001b[0m     \u001b[38;5;66;03m# _get_renderer may change the figure dpi (as vector formats\u001b[39;00m\n\u001b[1;32m   2191\u001b[0m     \u001b[38;5;66;03m# force the figure dpi to 72), so we need to set it again here.\u001b[39;00m\n\u001b[1;32m   2192\u001b[0m     \u001b[38;5;28;01mwith\u001b[39;00m cbook\u001b[38;5;241m.\u001b[39m_setattr_cm(\u001b[38;5;28mself\u001b[39m\u001b[38;5;241m.\u001b[39mfigure, dpi\u001b[38;5;241m=\u001b[39mdpi):\n\u001b[0;32m-> 2193\u001b[0m         result \u001b[38;5;241m=\u001b[39m \u001b[43mprint_method\u001b[49m\u001b[43m(\u001b[49m\n\u001b[1;32m   2194\u001b[0m \u001b[43m            \u001b[49m\u001b[43mfilename\u001b[49m\u001b[43m,\u001b[49m\n\u001b[1;32m   2195\u001b[0m \u001b[43m            \u001b[49m\u001b[43mfacecolor\u001b[49m\u001b[38;5;241;43m=\u001b[39;49m\u001b[43mfacecolor\u001b[49m\u001b[43m,\u001b[49m\n\u001b[1;32m   2196\u001b[0m \u001b[43m            \u001b[49m\u001b[43medgecolor\u001b[49m\u001b[38;5;241;43m=\u001b[39;49m\u001b[43medgecolor\u001b[49m\u001b[43m,\u001b[49m\n\u001b[1;32m   2197\u001b[0m \u001b[43m            \u001b[49m\u001b[43morientation\u001b[49m\u001b[38;5;241;43m=\u001b[39;49m\u001b[43morientation\u001b[49m\u001b[43m,\u001b[49m\n\u001b[1;32m   2198\u001b[0m \u001b[43m            \u001b[49m\u001b[43mbbox_inches_restore\u001b[49m\u001b[38;5;241;43m=\u001b[39;49m\u001b[43m_bbox_inches_restore\u001b[49m\u001b[43m,\u001b[49m\n\u001b[1;32m   2199\u001b[0m \u001b[43m            \u001b[49m\u001b[38;5;241;43m*\u001b[39;49m\u001b[38;5;241;43m*\u001b[39;49m\u001b[43mkwargs\u001b[49m\u001b[43m)\u001b[49m\n\u001b[1;32m   2200\u001b[0m \u001b[38;5;28;01mfinally\u001b[39;00m:\n\u001b[1;32m   2201\u001b[0m     \u001b[38;5;28;01mif\u001b[39;00m bbox_inches \u001b[38;5;129;01mand\u001b[39;00m restore_bbox:\n",
      "File \u001b[0;32m~/PycharmProjects/Hybrid_QML/.venv/lib/python3.10/site-packages/matplotlib/backend_bases.py:2043\u001b[0m, in \u001b[0;36mFigureCanvasBase._switch_canvas_and_return_print_method.<locals>.<lambda>\u001b[0;34m(*args, **kwargs)\u001b[0m\n\u001b[1;32m   2039\u001b[0m     optional_kws \u001b[38;5;241m=\u001b[39m {  \u001b[38;5;66;03m# Passed by print_figure for other renderers.\u001b[39;00m\n\u001b[1;32m   2040\u001b[0m         \u001b[38;5;124m\"\u001b[39m\u001b[38;5;124mdpi\u001b[39m\u001b[38;5;124m\"\u001b[39m, \u001b[38;5;124m\"\u001b[39m\u001b[38;5;124mfacecolor\u001b[39m\u001b[38;5;124m\"\u001b[39m, \u001b[38;5;124m\"\u001b[39m\u001b[38;5;124medgecolor\u001b[39m\u001b[38;5;124m\"\u001b[39m, \u001b[38;5;124m\"\u001b[39m\u001b[38;5;124morientation\u001b[39m\u001b[38;5;124m\"\u001b[39m,\n\u001b[1;32m   2041\u001b[0m         \u001b[38;5;124m\"\u001b[39m\u001b[38;5;124mbbox_inches_restore\u001b[39m\u001b[38;5;124m\"\u001b[39m}\n\u001b[1;32m   2042\u001b[0m     skip \u001b[38;5;241m=\u001b[39m optional_kws \u001b[38;5;241m-\u001b[39m {\u001b[38;5;241m*\u001b[39minspect\u001b[38;5;241m.\u001b[39msignature(meth)\u001b[38;5;241m.\u001b[39mparameters}\n\u001b[0;32m-> 2043\u001b[0m     print_method \u001b[38;5;241m=\u001b[39m functools\u001b[38;5;241m.\u001b[39mwraps(meth)(\u001b[38;5;28;01mlambda\u001b[39;00m \u001b[38;5;241m*\u001b[39margs, \u001b[38;5;241m*\u001b[39m\u001b[38;5;241m*\u001b[39mkwargs: \u001b[43mmeth\u001b[49m\u001b[43m(\u001b[49m\n\u001b[1;32m   2044\u001b[0m \u001b[43m        \u001b[49m\u001b[38;5;241;43m*\u001b[39;49m\u001b[43margs\u001b[49m\u001b[43m,\u001b[49m\u001b[43m \u001b[49m\u001b[38;5;241;43m*\u001b[39;49m\u001b[38;5;241;43m*\u001b[39;49m\u001b[43m{\u001b[49m\u001b[43mk\u001b[49m\u001b[43m:\u001b[49m\u001b[43m \u001b[49m\u001b[43mv\u001b[49m\u001b[43m \u001b[49m\u001b[38;5;28;43;01mfor\u001b[39;49;00m\u001b[43m \u001b[49m\u001b[43mk\u001b[49m\u001b[43m,\u001b[49m\u001b[43m \u001b[49m\u001b[43mv\u001b[49m\u001b[43m \u001b[49m\u001b[38;5;129;43;01min\u001b[39;49;00m\u001b[43m \u001b[49m\u001b[43mkwargs\u001b[49m\u001b[38;5;241;43m.\u001b[39;49m\u001b[43mitems\u001b[49m\u001b[43m(\u001b[49m\u001b[43m)\u001b[49m\u001b[43m \u001b[49m\u001b[38;5;28;43;01mif\u001b[39;49;00m\u001b[43m \u001b[49m\u001b[43mk\u001b[49m\u001b[43m \u001b[49m\u001b[38;5;129;43;01mnot\u001b[39;49;00m\u001b[43m \u001b[49m\u001b[38;5;129;43;01min\u001b[39;49;00m\u001b[43m \u001b[49m\u001b[43mskip\u001b[49m\u001b[43m}\u001b[49m\u001b[43m)\u001b[49m)\n\u001b[1;32m   2045\u001b[0m \u001b[38;5;28;01melse\u001b[39;00m:  \u001b[38;5;66;03m# Let third-parties do as they see fit.\u001b[39;00m\n\u001b[1;32m   2046\u001b[0m     print_method \u001b[38;5;241m=\u001b[39m meth\n",
      "File \u001b[0;32m~/PycharmProjects/Hybrid_QML/.venv/lib/python3.10/site-packages/matplotlib/backends/backend_agg.py:497\u001b[0m, in \u001b[0;36mFigureCanvasAgg.print_png\u001b[0;34m(self, filename_or_obj, metadata, pil_kwargs)\u001b[0m\n\u001b[1;32m    450\u001b[0m \u001b[38;5;28;01mdef\u001b[39;00m \u001b[38;5;21mprint_png\u001b[39m(\u001b[38;5;28mself\u001b[39m, filename_or_obj, \u001b[38;5;241m*\u001b[39m, metadata\u001b[38;5;241m=\u001b[39m\u001b[38;5;28;01mNone\u001b[39;00m, pil_kwargs\u001b[38;5;241m=\u001b[39m\u001b[38;5;28;01mNone\u001b[39;00m):\n\u001b[1;32m    451\u001b[0m \u001b[38;5;250m    \u001b[39m\u001b[38;5;124;03m\"\"\"\u001b[39;00m\n\u001b[1;32m    452\u001b[0m \u001b[38;5;124;03m    Write the figure to a PNG file.\u001b[39;00m\n\u001b[1;32m    453\u001b[0m \n\u001b[0;32m   (...)\u001b[0m\n\u001b[1;32m    495\u001b[0m \u001b[38;5;124;03m        *metadata*, including the default 'Software' key.\u001b[39;00m\n\u001b[1;32m    496\u001b[0m \u001b[38;5;124;03m    \"\"\"\u001b[39;00m\n\u001b[0;32m--> 497\u001b[0m     \u001b[38;5;28;43mself\u001b[39;49m\u001b[38;5;241;43m.\u001b[39;49m\u001b[43m_print_pil\u001b[49m\u001b[43m(\u001b[49m\u001b[43mfilename_or_obj\u001b[49m\u001b[43m,\u001b[49m\u001b[43m \u001b[49m\u001b[38;5;124;43m\"\u001b[39;49m\u001b[38;5;124;43mpng\u001b[39;49m\u001b[38;5;124;43m\"\u001b[39;49m\u001b[43m,\u001b[49m\u001b[43m \u001b[49m\u001b[43mpil_kwargs\u001b[49m\u001b[43m,\u001b[49m\u001b[43m \u001b[49m\u001b[43mmetadata\u001b[49m\u001b[43m)\u001b[49m\n",
      "File \u001b[0;32m~/PycharmProjects/Hybrid_QML/.venv/lib/python3.10/site-packages/matplotlib/backends/backend_agg.py:446\u001b[0m, in \u001b[0;36mFigureCanvasAgg._print_pil\u001b[0;34m(self, filename_or_obj, fmt, pil_kwargs, metadata)\u001b[0m\n\u001b[1;32m    441\u001b[0m \u001b[38;5;250m\u001b[39m\u001b[38;5;124;03m\"\"\"\u001b[39;00m\n\u001b[1;32m    442\u001b[0m \u001b[38;5;124;03mDraw the canvas, then save it using `.image.imsave` (to which\u001b[39;00m\n\u001b[1;32m    443\u001b[0m \u001b[38;5;124;03m*pil_kwargs* and *metadata* are forwarded).\u001b[39;00m\n\u001b[1;32m    444\u001b[0m \u001b[38;5;124;03m\"\"\"\u001b[39;00m\n\u001b[1;32m    445\u001b[0m FigureCanvasAgg\u001b[38;5;241m.\u001b[39mdraw(\u001b[38;5;28mself\u001b[39m)\n\u001b[0;32m--> 446\u001b[0m \u001b[43mmpl\u001b[49m\u001b[38;5;241;43m.\u001b[39;49m\u001b[43mimage\u001b[49m\u001b[38;5;241;43m.\u001b[39;49m\u001b[43mimsave\u001b[49m\u001b[43m(\u001b[49m\n\u001b[1;32m    447\u001b[0m \u001b[43m    \u001b[49m\u001b[43mfilename_or_obj\u001b[49m\u001b[43m,\u001b[49m\u001b[43m \u001b[49m\u001b[38;5;28;43mself\u001b[39;49m\u001b[38;5;241;43m.\u001b[39;49m\u001b[43mbuffer_rgba\u001b[49m\u001b[43m(\u001b[49m\u001b[43m)\u001b[49m\u001b[43m,\u001b[49m\u001b[43m \u001b[49m\u001b[38;5;28;43mformat\u001b[39;49m\u001b[38;5;241;43m=\u001b[39;49m\u001b[43mfmt\u001b[49m\u001b[43m,\u001b[49m\u001b[43m \u001b[49m\u001b[43morigin\u001b[49m\u001b[38;5;241;43m=\u001b[39;49m\u001b[38;5;124;43m\"\u001b[39;49m\u001b[38;5;124;43mupper\u001b[39;49m\u001b[38;5;124;43m\"\u001b[39;49m\u001b[43m,\u001b[49m\n\u001b[1;32m    448\u001b[0m \u001b[43m    \u001b[49m\u001b[43mdpi\u001b[49m\u001b[38;5;241;43m=\u001b[39;49m\u001b[38;5;28;43mself\u001b[39;49m\u001b[38;5;241;43m.\u001b[39;49m\u001b[43mfigure\u001b[49m\u001b[38;5;241;43m.\u001b[39;49m\u001b[43mdpi\u001b[49m\u001b[43m,\u001b[49m\u001b[43m \u001b[49m\u001b[43mmetadata\u001b[49m\u001b[38;5;241;43m=\u001b[39;49m\u001b[43mmetadata\u001b[49m\u001b[43m,\u001b[49m\u001b[43m \u001b[49m\u001b[43mpil_kwargs\u001b[49m\u001b[38;5;241;43m=\u001b[39;49m\u001b[43mpil_kwargs\u001b[49m\u001b[43m)\u001b[49m\n",
      "File \u001b[0;32m~/PycharmProjects/Hybrid_QML/.venv/lib/python3.10/site-packages/matplotlib/image.py:1656\u001b[0m, in \u001b[0;36mimsave\u001b[0;34m(fname, arr, vmin, vmax, cmap, format, origin, dpi, metadata, pil_kwargs)\u001b[0m\n\u001b[1;32m   1654\u001b[0m pil_kwargs\u001b[38;5;241m.\u001b[39msetdefault(\u001b[38;5;124m\"\u001b[39m\u001b[38;5;124mformat\u001b[39m\u001b[38;5;124m\"\u001b[39m, \u001b[38;5;28mformat\u001b[39m)\n\u001b[1;32m   1655\u001b[0m pil_kwargs\u001b[38;5;241m.\u001b[39msetdefault(\u001b[38;5;124m\"\u001b[39m\u001b[38;5;124mdpi\u001b[39m\u001b[38;5;124m\"\u001b[39m, (dpi, dpi))\n\u001b[0;32m-> 1656\u001b[0m \u001b[43mimage\u001b[49m\u001b[38;5;241;43m.\u001b[39;49m\u001b[43msave\u001b[49m\u001b[43m(\u001b[49m\u001b[43mfname\u001b[49m\u001b[43m,\u001b[49m\u001b[43m \u001b[49m\u001b[38;5;241;43m*\u001b[39;49m\u001b[38;5;241;43m*\u001b[39;49m\u001b[43mpil_kwargs\u001b[49m\u001b[43m)\u001b[49m\n",
      "File \u001b[0;32m~/PycharmProjects/Hybrid_QML/.venv/lib/python3.10/site-packages/PIL/Image.py:2436\u001b[0m, in \u001b[0;36mImage.save\u001b[0;34m(self, fp, format, **params)\u001b[0m\n\u001b[1;32m   2434\u001b[0m         fp \u001b[38;5;241m=\u001b[39m builtins\u001b[38;5;241m.\u001b[39mopen(filename, \u001b[38;5;124m\"\u001b[39m\u001b[38;5;124mr+b\u001b[39m\u001b[38;5;124m\"\u001b[39m)\n\u001b[1;32m   2435\u001b[0m     \u001b[38;5;28;01melse\u001b[39;00m:\n\u001b[0;32m-> 2436\u001b[0m         fp \u001b[38;5;241m=\u001b[39m \u001b[43mbuiltins\u001b[49m\u001b[38;5;241;43m.\u001b[39;49m\u001b[43mopen\u001b[49m\u001b[43m(\u001b[49m\u001b[43mfilename\u001b[49m\u001b[43m,\u001b[49m\u001b[43m \u001b[49m\u001b[38;5;124;43m\"\u001b[39;49m\u001b[38;5;124;43mw+b\u001b[39;49m\u001b[38;5;124;43m\"\u001b[39;49m\u001b[43m)\u001b[49m\n\u001b[1;32m   2438\u001b[0m \u001b[38;5;28;01mtry\u001b[39;00m:\n\u001b[1;32m   2439\u001b[0m     save_handler(\u001b[38;5;28mself\u001b[39m, fp, filename)\n",
      "\u001b[0;31mFileNotFoundError\u001b[0m: [Errno 2] No such file or directory: 'adjoint_diff/scaling.png'"
     ]
    },
    {
     "data": {
      "image/png": "[encoded data removed]",
      "text/plain": [
       "<Figure size 1000x400 with 2 Axes>"
      ]
     },
     "metadata": {},
     "output_type": "display_data"
    }
   ],
   "source": [
    "import timeit\n",
    "import matplotlib.pyplot as plt\n",
    "import pennylane as qml\n",
    "import jax\n",
    "\n",
    "jax.config.update(\"jax_platform_name\", \"cpu\")\n",
    "jax.config.update('jax_enable_x64', True)\n",
    "\n",
    "plt.style.use(\"bmh\")\n",
    "\n",
    "n_samples = 5\n",
    "\n",
    "\n",
    "def get_time(qnode, params):\n",
    "    globals_dict = {'grad': jax.grad, 'circuit': qnode, 'params': params}\n",
    "    return timeit.timeit(\"grad(circuit)(params)\", globals=globals_dict, number=n_samples)\n",
    "\n",
    "\n",
    "def wires_scaling(n_wires, n_layers):\n",
    "    key = jax.random.PRNGKey(42)\n",
    "\n",
    "    t_adjoint = []\n",
    "    t_ps = []\n",
    "    t_backprop = []\n",
    "\n",
    "    def circuit(params, wires):\n",
    "        qml.StronglyEntanglingLayers(params, wires=range(wires))\n",
    "        return qml.expval(qml.PauliZ(0) @ qml.PauliZ(1) @ qml.PauliZ(2))\n",
    "\n",
    "    for i_wires in n_wires:\n",
    "        dev = qml.device(\"lightning.qubit\", wires=i_wires)\n",
    "        dev_python = qml.device(\"default.qubit\", wires=i_wires)\n",
    "\n",
    "        circuit_adjoint = qml.QNode(lambda x: circuit(x, wires=i_wires), dev, diff_method=\"adjoint\")\n",
    "        circuit_ps = qml.QNode(lambda x: circuit(x, wires=i_wires), dev, diff_method=\"parameter-shift\")\n",
    "        circuit_backprop = qml.QNode(lambda x: circuit(x, wires=i_wires), dev_python, diff_method=\"backprop\")\n",
    "\n",
    "        # set up the parameters\n",
    "        param_shape = qml.StronglyEntanglingLayers.shape(n_wires=i_wires, n_layers=n_layers)\n",
    "        params = jax.random.normal(key, param_shape)\n",
    "\n",
    "        t_adjoint.append(get_time(circuit_adjoint, params))\n",
    "        t_backprop.append(get_time(circuit_backprop, params))\n",
    "        t_ps.append(get_time(circuit_ps, params))\n",
    "\n",
    "    return t_adjoint, t_backprop, t_ps\n",
    "\n",
    "\n",
    "def layers_scaling(n_wires, n_layers):\n",
    "    key = jax.random.PRNGKey(42)\n",
    "\n",
    "    dev = qml.device(\"lightning.qubit\", wires=n_wires)\n",
    "    dev_python = qml.device('default.qubit', wires=n_wires)\n",
    "\n",
    "    t_adjoint = []\n",
    "    t_ps = []\n",
    "    t_backprop = []\n",
    "\n",
    "    def circuit(params):\n",
    "        qml.StronglyEntanglingLayers(params, wires=range(n_wires))\n",
    "        return qml.expval(qml.PauliZ(0) @ qml.PauliZ(1) @ qml.PauliZ(2))\n",
    "\n",
    "    circuit_adjoint = qml.QNode(circuit, dev, diff_method=\"adjoint\")\n",
    "    circuit_ps = qml.QNode(circuit, dev, diff_method=\"parameter-shift\")\n",
    "    circuit_backprop = qml.QNode(circuit, dev_python, diff_method=\"backprop\")\n",
    "\n",
    "    for i_layers in n_layers:\n",
    "        # set up the parameters\n",
    "        param_shape = qml.StronglyEntanglingLayers.shape(n_wires=n_wires, n_layers=i_layers)\n",
    "        params = jax.random.normal(key, param_shape)\n",
    "\n",
    "        t_adjoint.append(get_time(circuit_adjoint, params))\n",
    "        t_backprop.append(get_time(circuit_backprop, params))\n",
    "        t_ps.append(get_time(circuit_ps, params))\n",
    "\n",
    "    return t_adjoint, t_backprop, t_ps\n",
    "\n",
    "\n",
    "if __name__ == \"__main__\":\n",
    "    layers_list = [1, 3, 5, 7, 9]\n",
    "    n_wires = 5\n",
    "    adjoint_layers, backprop_layers, ps_layers = layers_scaling(n_wires, layers_list)\n",
    "\n",
    "    wires_list = [3, 6, 9, 12, 15]\n",
    "    n_layers = 3\n",
    "    adjoint_wires, backprop_wires, ps_wires = wires_scaling(wires_list, n_layers)\n",
    "\n",
    "    # Generating the graphic\n",
    "    fig, (ax1, ax2) = plt.subplots(1, 2, figsize=(10, 4))\n",
    "\n",
    "    ax1.plot(wires_list, adjoint_wires, '.-', label=\"adjoint\")\n",
    "    ax1.plot(wires_list, ps_wires, '.-', label=\"parameter-shift\")\n",
    "    ax1.plot(wires_list, backprop_wires, '.-', label=\"backprop\")\n",
    "\n",
    "    ax1.legend()\n",
    "\n",
    "    ax1.set_xlabel(\"Number of wires\")\n",
    "    ax1.set_xticks(wires_list)\n",
    "    ax1.set_ylabel(\"Log Time\")\n",
    "    ax1.set_yscale(\"log\")\n",
    "    ax1.set_title(\"Scaling with wires\")\n",
    "\n",
    "    ax2.plot(layers_list, adjoint_layers, '.-', label=\"adjoint\")\n",
    "    ax2.plot(layers_list, ps_layers, '.-', label=\"parameter-shift\")\n",
    "    ax2.plot(layers_list, backprop_layers, '.-', label=\"backprop\")\n",
    "\n",
    "    ax2.legend()\n",
    "\n",
    "    ax2.set_xlabel(\"Number of layers\")\n",
    "    ax2.set_xticks(layers_list)\n",
    "    ax2.set_ylabel(\"Time\")\n",
    "    ax2.set_title(\"Scaling with Layers\")\n",
    "\n",
    "    plt.savefig(\"adjoint_diff/scaling.png\")"
   ]
  },
  {
   "cell_type": "code",
   "execution_count": null,
   "id": "7e0aee50bbaa6fac",
   "metadata": {
    "collapsed": false,
    "jupyter": {
     "outputs_hidden": false
    }
   },
   "outputs": [],
   "source": []
  }
 ],
 "metadata": {
  "kernelspec": {
   "display_name": "pytorch-2.3.1",
   "language": "python",
   "name": "pytorch-2.3.1"
  },
  "language_info": {
   "codemirror_mode": {
    "name": "ipython",
    "version": 3
   },
   "file_extension": ".py",
   "mimetype": "text/x-python",
   "name": "python",
   "nbconvert_exporter": "python",
   "pygments_lexer": "ipython3",
   "version": "3.11.9"
  }
 },
 "nbformat": 4,
 "nbformat_minor": 5
}
